{
 "cells": [
  {
   "cell_type": "markdown",
   "id": "f291db45",
   "metadata": {},
   "source": [
    "<!DOCTYPE html>\n",
    "<html>\n",
    "    <body>\n",
    "        <p>\n",
    "            <b>Observation de comment la decision boundary est affectée par le nombre de neighbors (n).</b><br/>\n",
    "             Pour chacune des valeurs du vecteur n_neighbors, on plotte la decision boundary du modèle.<br/>\n",
    "            <b>Optimisation de la valeur de n_neighbors en utilisant une ten-fold cross-validation.</b><br/>\n",
    "    Principe : in k-fold cross validation, le training set est divisé en k sets plus petits. On suit ensuite la procédure suivante k fois, pour chacun des k sets : <br/></p>\n",
    "        <li> 1° On train en utilisant k-1 sets </li>\n",
    "        <li> 2° Le modèle résultant est validé par le set non-utilisé pour le training </li>\n",
    "    </body>\n",
    "</html>"
   ]
  },
  {
   "cell_type": "code",
   "execution_count": 2,
   "id": "989d4d4e",
   "metadata": {},
   "outputs": [],
   "source": [
    "\"\"\"\n",
    "University of Liege\n",
    "ELEN0062 - Introduction to machine learning\n",
    "Project 1 - Classification algorithms\n",
    "\"\"\"\n",
    "#! /usr/bin/env python\n",
    "# -*- coding: utf-8 -*-\n",
    "\n",
    "import numpy as np\n",
    "import matplotlib.pyplot as plt\n",
    "\n",
    "from plot import plot_boundary\n",
    "from data import make_balanced_dataset, make_unbalanced_dataset\n",
    "from sklearn.neighbors import KNeighborsClassifier\n",
    "from sklearn.metrics import confusion_matrix, accuracy_score\n",
    "from sklearn.model_selection import train_test_split, cross_val_score\n",
    "\n",
    "\n",
    "# (Question 2)\n",
    "\n",
    "# Put your funtions here\n",
    "# ...\n",
    "\n",
    "\n",
    "if __name__ == \"__main__\":\n",
    "    # Put your code here\n",
    "    n_neighbors = [1, 5, 50, 100, 500]\n",
    "    n_scores = []\n",
    "    k = 10\n",
    "    X, y = make_unbalanced_dataset(3000)\n",
    "    X_train, X_test, y_train, y_test = train_test_split(X, y, train_size = 0.33)\n",
    "    \n",
    "    for n in n_neighbors:\n",
    "        knn_estimator = KNeighborsClassifier(n_neighbors = n).fit(X_train, y_train)\n",
    "        plot_boundary(\"n_neighbors\"+str(n), knn_estimator, X, y, mesh_step_size = 0.2, title=\"Boundary\")\n",
    "        #k-fold cross validation\n",
    "        scores = cross_val_score(knn_estimator, X, y, cv=k)\n",
    "        #Compute mean score for corresponding n value and to n_scores vector\n",
    "        n_scores.append(np.mean(scores))\n"
   ]
  },
  {
   "cell_type": "markdown",
   "id": "f400ec4e",
   "metadata": {},
   "source": [
    "<!DOCTYPE html>\n",
    "<html>\n",
    "    <body>\n",
    "        <p>\n",
    "            Le vecteur n_scores contiendra alors le score moyen sur la 10-fold cross validation pour chaque valeur de n_neighbors. Afin de récupérer la valeur optimale, on récupère l'index du score maximal. Cet index est celui de l'élément de n_neighbors optimal.\n",
    "        </p>\n",
    "    </body>\n",
    "</html>"
   ]
  },
  {
   "cell_type": "code",
   "execution_count": 3,
   "id": "4ed52615",
   "metadata": {},
   "outputs": [],
   "source": [
    "optimal_index = np.argmax(n_scores)"
   ]
  },
  {
   "cell_type": "code",
   "execution_count": 4,
   "id": "ece4db03",
   "metadata": {},
   "outputs": [
    {
     "name": "stdout",
     "output_type": "stream",
     "text": [
      "The optimal value for parameter n_neighbors is : 50\n"
     ]
    }
   ],
   "source": [
    "optimal_n = n_neighbors[optimal_index]\n",
    "print(\"The optimal value for parameter n_neighbors is : \"+str(optimal_n))"
   ]
  },
  {
   "cell_type": "markdown",
   "id": "e9d2ee6d",
   "metadata": {},
   "source": [
    "<!DOCTYPE html>\n",
    "<html>\n",
    "    <body>\n",
    "        <p>\n",
    "           On souhaite obtenir l'accuracy moyenne obtenue sur les 10-folds pour chacune des valeurs de n_neighbors. Elle a été calculée précédemment dans le vecteurn_scores que l'on affiche simplement.\n",
    "        </p>\n",
    "    </body>\n",
    "</html>"
   ]
  },
  {
   "cell_type": "code",
   "execution_count": 5,
   "id": "9d10c4cf",
   "metadata": {},
   "outputs": [
    {
     "name": "stdout",
     "output_type": "stream",
     "text": [
      "Mean accuracy over 10-folds for different values of n_neighbors : \n",
      " n_neighbors = 1 : 0.8773333333333333\n",
      " n_neighbors = 5 : 0.9049999999999999\n",
      " n_neighbors = 50 : 0.915\n",
      " n_neighbors = 100 : 0.914\n",
      " n_neighbors = 500 : 0.9103333333333333\n"
     ]
    }
   ],
   "source": [
    "print(\"Mean accuracy over 10-folds for different values of n_neighbors : \\n n_neighbors = 1 : \" + str(n_scores[0]) +\n",
    "\"\\n n_neighbors = 5 : \" + str(n_scores[1]) +\n",
    "\"\\n n_neighbors = 50 : \" + str(n_scores[2]) +\n",
    "\"\\n n_neighbors = 100 : \" + str(n_scores[3]) +   \n",
    "\"\\n n_neighbors = 500 : \" + str(n_scores[4]))"
   ]
  },
  {
   "cell_type": "markdown",
   "id": "79d9cf1b",
   "metadata": {},
   "source": [
    "<!DOCTYPE html>\n",
    "<html>\n",
    "    <body>\n",
    "        <p>\n",
    "            <b> Observation de la variation de la valeur optimale de n_neighbors en fonction de la taille du training set </b><br/>\n",
    "            Evolution of mean test accuracies for every possible number of neighbors for different training set sizes over ten generations of the dataset.\n",
    "        </p>\n",
    "    </body>\n",
    "</html>"
   ]
  },
  {
   "cell_type": "code",
   "execution_count": 7,
   "id": "f37b4385",
   "metadata": {},
   "outputs": [
    {
     "data": {
      "image/png": "[encoded data removed]",
      "text/plain": [
       "<Figure size 432x288 with 1 Axes>"
      ]
     },
     "metadata": {
      "needs_background": "light"
     },
     "output_type": "display_data"
    }
   ],
   "source": [
    "test_size = 500\n",
    "N = [50, 150, 250, 350, 450, 500]\n",
    "gen = 10\n",
    "accuracies_gen = []\n",
    "accuracies_train_size = []\n",
    "accuracies = []\n",
    "\n",
    "for train_size in N:\n",
    "    accuracies_train_size = []\n",
    "    for n in n_neighbors:\n",
    "        for i in range(gen):\n",
    "            X, y = make_unbalanced_dataset(3000)\n",
    "            X_train, X_test, y_train, y_test = train_test_split(X, y, train_size = train_size, test_size = test_size)\n",
    "            knn_estimator = KNeighborsClassifier(n_neighbors = n).fit(X_train, y_train)\n",
    "            if train_size > n:\n",
    "                accuracies_gen.append(accuracy_score(y_test, knn_estimator.predict(X_test)))\n",
    "\n",
    "        # Compute mean accuracy over 10 gens and append\n",
    "        accuracies_train_size.append(np.mean(accuracies_gen))\n",
    "        \n",
    "    # Plot accuracies with respect to the number of neighbors\n",
    "    plt.plot(n_neighbors, accuracies_train_size)\n",
    "    plt.legend(['N = 50', 'N = 150', 'N = 250', 'N = 350', 'N = 450', 'N = 500'], loc = 'lower right')\n",
    "    plt.title(\"Accuracy with respect to number of neighbors for different training set sizes (N)\")\n",
    "    plt.xlabel(\"n_neighbors\")\n",
    "    plt.ylabel(\"Accuracy\")\n",
    "plt.savefig(\"accuracy\" +str(train_size) + \".pdf\")"
   ]
  },
  {
   "cell_type": "markdown",
   "id": "d8165a8b",
   "metadata": {},
   "source": [
    "<!DOCTYPE html>\n",
    "<html>\n",
    "    <body>\n",
    "        <p>\n",
    "            Plot the optimal value of n_neighbors with respect to the  training set size for all sizes studied in the previous point.        </p>\n",
    "    </body>\n",
    "</html>"
   ]
  },
  {
   "cell_type": "code",
   "execution_count": 26,
   "id": "3c6db61a",
   "metadata": {},
   "outputs": [
    {
     "name": "stdout",
     "output_type": "stream",
     "text": [
      "[0.856, 0.902, 0, 0, 0]\n",
      "1\n",
      "[0.876, 0.912, 0.912, 0.776, 0]\n",
      "1\n",
      "[0.858, 0.916, 0.914, 0.904, 0]\n",
      "1\n",
      "[0.872, 0.884, 0.902, 0.892, 0]\n",
      "1\n",
      "[0.87, 0.904, 0.91, 0.906, 0]\n",
      "1\n",
      "[0.854, 0.912, 0.922, 0.924, 0]\n",
      "1\n"
     ]
    },
    {
     "data": {
      "text/plain": [
       "Text(0, 0.5, 'n_neighbors')"
      ]
     },
     "execution_count": 26,
     "metadata": {},
     "output_type": "execute_result"
    },
    {
     "data": {
      "image/png": "[encoded data removed]",
      "text/plain": [
       "<Figure size 432x288 with 1 Axes>"
      ]
     },
     "metadata": {
      "needs_background": "light"
     },
     "output_type": "display_data"
    }
   ],
   "source": [
    "n_neighbors = [1, 5, 50, 100, 500]\n",
    "test_size = 500\n",
    "N = [50, 150, 250, 350, 450, 500]\n",
    "optimals = []\n",
    "\n",
    "X, y = make_unbalanced_dataset(3000)\n",
    "\n",
    "\n",
    "for train_size in N:\n",
    "    X_train, X_test, y_train, y_test = train_test_split(X, y, train_size = train_size, test_size = test_size)\n",
    "    n_accuracies = []\n",
    "    for n in n_neighbors:\n",
    "        knn_estimator = KNeighborsClassifier(n_neighbors = n).fit(X_train, y_train)\n",
    "        if train_size > n:\n",
    "            n_accuracies.append(accuracy_score(y_test, knn_estimator.predict(X_test)))\n",
    "        else: \n",
    "            n_accuracies.append(0)\n",
    "\n",
    "    optimal_index = np.argmax(n_scores)\n",
    "    optimals.append(n_neighbors[optimal_index])\n",
    "\n",
    "plt.plot(N, optimals)\n",
    "plt.title(\"Optimal values of n_neighbors with respect to different training set sizes (N)\")\n",
    "plt.xlabel(\"Training set sizes (N)\")\n",
    "plt.ylabel(\"n_neighbors\")"
   ]
  },
  {
   "cell_type": "code",
   "execution_count": null,
   "id": "8bb457dd",
   "metadata": {},
   "outputs": [],
   "source": []
  },
  {
   "cell_type": "code",
   "execution_count": null,
   "id": "e5ced030",
   "metadata": {},
   "outputs": [],
   "source": []
  }
 ],
 "metadata": {
  "kernelspec": {
   "display_name": "Python 3 (ipykernel)",
   "language": "python",
   "name": "python3"
  },
  "language_info": {
   "codemirror_mode": {
    "name": "ipython",
    "version": 3
   },
   "file_extension": ".py",
   "mimetype": "text/x-python",
   "name": "python",
   "nbconvert_exporter": "python",
   "pygments_lexer": "ipython3",
   "version": "3.9.7"
  }
 },
 "nbformat": 4,
 "nbformat_minor": 5
}
